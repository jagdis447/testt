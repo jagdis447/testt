{
 "cells": [
  {
   "cell_type": "raw",
   "metadata": {
    "vscode": {
     "languageId": "raw"
    }
   },
   "source": [
    "---\n",
    "author: J083 GROUP\n",
    "badges: true\n",
    "categories:\n",
    "- ML\n",
    "date: '2025-02-14'\n",
    "title: Simple Visualisation\n",
    "toc: true\n",
    "---"
   ]
  },
  {
   "cell_type": "markdown",
   "metadata": {},
   "source": [
    "# PowerBi: Unlocking Data Insights with Interactive Visualizations\n",
    "\n",
    "## 1. Introduction\n",
    "Power BI is a powerful business analytics tool from Microsoft that enables users to create interactive visualizations and reports. It is widely used in industries for data analysis, data handling, reporting, and decision-making. It is primarily used to analyse data but other functionalities are also very helpful. \n",
    "\n",
    "In this blog, we will use Power BI Desktop to analyze a restaurant business dataset, which includes information on sales, customer ratings, and revenue. We will explore various visualizations, filtering options, and DAX formulas to generate meaningful insights for business.\n"
   ]
  },
  {
   "cell_type": "markdown",
   "metadata": {},
   "source": [
    "## 2. Installation & Setup\n",
    "Steps to Install Power BI Desktop:\n",
    "1. **Download Power BI Desktop** from the [Microsoft Store](https://powerbi.microsoft.com/).\n",
    "2. Open Power BI and click on **Get Data** > **CSV**.\n",
    "3. Select and load the dataset.\n",
    "4. Navigate to the **Data View** to check if all columns are correctly imported.\n"
   ]
  },
  {
   "cell_type": "markdown",
   "metadata": {},
   "source": [
    "## 3. Key Features & Explanation\n",
    "Power BI offers several features to transform raw data into meaningful insights:\n",
    "- Data Import & Transformation: Easily import and transform (if needed) data from CSV, Excel, and databases.\n",
    "- Interactive Visualizations: Create bar charts, line charts, pie charts, and more for better understanding of the data.\n",
    "- Filtering & Slicing:  Apply filters to drill down into specific categories, time frames, or locations for better analysis\n",
    "- DAX (Data Analysis Expressions):Use formulas to calculate sales, revenue growth, and other business metrics.\n",
    "- Custom Dashboards: Combine multiple visualizations into a single, interactive dashboard for quick decision-making.\n"
   ]
  },
  {
   "cell_type": "markdown",
   "metadata": {},
   "source": [
    "## 4. Code Examples in DAX\n",
    "\n",
    "\n",
    "\n"
   ]
  },
  {
   "cell_type": "markdown",
   "metadata": {},
   "source": [
    "**1. Total Sales Calculation**  \n",
    "**Explanation:**  \n",
    "This formula calculates the total sales of all restaurants using the **SUM()** function. It helps understand overall revenue in the dataset.  \n",
    "\n",
    "```DAX\n",
    "Total Sales = SUM(RestaurantData[Sales])\n"
   ]
  },
  {
   "cell_type": "markdown",
   "metadata": {},
   "source": [
    "**2. Year-over-Year (YoY) Growth Calculation**  \n",
    "**Explanation:**  \n",
    "This formula compares sales growth between two years to track business performance. \n",
    "\n",
    "```DAX\n",
    "YOY Growth = ([Current Year Sales] - [Previous Year Sales]) / [Previous Year Sales] * 100\n"
   ]
  },
  {
   "cell_type": "markdown",
   "metadata": {},
   "source": [
    "**3. Ranking Restaurants Based on Sales**  \n",
    "**Explanation:**  \n",
    "This formula ranks restaurants based on their sales performance using the RANKX() function.  \n",
    "\n",
    "```DAX\n",
    "Sales Rank = RANKX(ALL(RestaurantData), RestaurantData[Sales], , DESC, DENSE)\n"
   ]
  },
  {
   "cell_type": "markdown",
   "metadata": {},
   "source": [
    "**4. Creating a Profit Margin Column**  \n",
    "**Explanation:**  \n",
    "If we have profit and sales data, we can calculate the profit margin using DIVIDE() to avoid division errors.\n",
    "\n",
    "```DAX\n",
    "Profit Margin = DIVIDE(RestaurantData[Profit], RestaurantData[Sales])\n",
    "\n"
   ]
  },
  {
   "cell_type": "markdown",
   "metadata": {},
   "source": [
    "**5. Filtering High Sales Restaurants**  \n",
    "**Explanation:**  \n",
    "To analyze only top-performing restaurants, we filter those with sales above ₹1,00,000 using FILTER(). \n",
    "\n",
    "```DAX\n",
    "High Sales = FILTER(RestaurantData, RestaurantData[Sales] > 100000)\n",
    "\n"
   ]
  },
  {
   "cell_type": "markdown",
   "metadata": {},
   "source": [
    "**6. Average Sales per Restaurant**  \n",
    "**Explanation:**  \n",
    "his gives the average sales value. \n",
    "\n",
    "```DAX\n",
    "Average Sales = AVERAGE(RestaurantData[Sales])\n",
    "\n",
    "\n"
   ]
  },
  {
   "cell_type": "markdown",
   "metadata": {},
   "source": [
    "## 5. Screenshots "
   ]
  },
  {
   "cell_type": "markdown",
   "metadata": {
    "vscode": {
     "languageId": "html"
    }
   },
   "source": [
    "<img src=\"https://i.imgur.com/LNsRc1v.png\" width=\"500\">"
   ]
  },
  {
   "cell_type": "markdown",
   "metadata": {
    "vscode": {
     "languageId": "raw"
    }
   },
   "source": [
    "<img src=\"https://i.imgur.com/hLSARW9.png\" width=\"500\">"
   ]
  },
  {
   "cell_type": "markdown",
   "metadata": {
    "vscode": {
     "languageId": "raw"
    }
   },
   "source": [
    "<img src=\"https://i.imgur.com/ZfsRHtz.png\" width=\"500\">"
   ]
  },
  {
   "cell_type": "markdown",
   "metadata": {
    "vscode": {
     "languageId": "raw"
    }
   },
   "source": [
    "<img src=\"https://i.imgur.com/wDBpFJK.png\" width=\"500\">"
   ]
  },
  {
   "cell_type": "markdown",
   "metadata": {},
   "source": [
    "## 6. Use Cases\n",
    "\n",
    "Power BI is widely used in various industries:\n",
    "\n",
    " 1 Business Intelligence: Track sales and revenue trends.\n",
    "\n",
    " 2 Finance: Analyze expenses and profits.\n",
    "\n",
    " 3 Marketing: Monitor campaign performance.\n",
    "\n",
    " 4 Retail: Manage inventory and customer trends."
   ]
  },
  {
   "cell_type": "markdown",
   "metadata": {},
   "source": [
    "## 7. Conclusion\n",
    "Power BI helps in data analysis by providing powerful visualizations and easy-to-use dashboards and even simplify the process of data handling although its main functionality is data analysis. Through this assignment, we:  \n",
    "1. Installed and set up Power BI.\n",
    "2. Imported a dataset and created interactive charts.\n",
    "3. Used DAX formulas for calculations.\n",
    "4. Applied filters to refine insights.\n",
    "\n",
    "Power BI is an essential tool for data-driven decision-making!"
   ]
  },
  {
   "cell_type": "markdown",
   "metadata": {},
   "source": [
    "## 8. References & Further Reading\n",
    "\n",
    "- [Power BI Tutorial for Beginners (YouTube)](https://youtu.be/NNSHu0rkew8)  \n",
    "- [Official Power BI Documentation](https://learn.microsoft.com/en-us/power-bi/)  \n",
    "- [DAX Guide (Official)](https://dax.guide/)  \n",
    "- [Power BI YouTube Channel (Microsoft)](https://www.youtube.com/c/mspowerbi/videos)   \n",
    "\n"
   ]
  }
 ],
 "metadata": {
  "kernelspec": {
   "display_name": "Python 3",
   "language": "python",
   "name": "python3"
  },
  "language_info": {
   "codemirror_mode": {
    "name": "ipython",
    "version": 3
   },
   "file_extension": ".py",
   "mimetype": "text/x-python",
   "name": "python",
   "nbconvert_exporter": "python",
   "pygments_lexer": "ipython3",
   "version": "3.13.2"
  }
 },
 "nbformat": 4,
 "nbformat_minor": 2
}
